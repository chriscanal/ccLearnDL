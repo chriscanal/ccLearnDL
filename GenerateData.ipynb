{
 "cells": [
  {
   "cell_type": "code",
   "execution_count": null,
   "metadata": {
    "collapsed": false,
    "focus": false,
    "id": "cc502f7e-9045-4dfd-84b2-990c1d61d639"
   },
   "outputs": [],
   "source": [
    "import numpy as np\n",
    "np.random.seed(1337)  # for reproducibility\n",
    "\n",
    "from keras.datasets import mnist\n",
    "from keras.models import Sequential\n",
    "from keras.layers.core import Dense, Dropout, Activation, Flatten\n",
    "from keras.layers.convolutional import Convolution2D, MaxPooling2D\n",
    "from keras.optimizers import SGD, Adam, RMSprop\n",
    "from keras.utils import np_utils\n",
    "from keras.utils.visualize_util import plot\n",
    "from keras.models import model_from_json\n",
    "\n",
    "\n",
    "\n",
    "%matplotlib inline\n",
    "import matplotlib.pyplot as plt\n",
    "import matplotlib.image as mpimg\n",
    "import sys\n",
    "import time\n",
    "import png\n",
    "\n",
    "nb_epoch = 10"
   ]
  },
  {
   "cell_type": "code",
   "execution_count": null,
   "metadata": {
    "collapsed": true,
    "focus": false,
    "id": "5373279f-4cc6-4145-ba7a-3a1d47250d51"
   },
   "outputs": [],
   "source": [
    "#Load origional MNIST Data\n",
    "(X_train, y_train), (X_test, y_test) = mnist.load_data()"
   ]
  },
  {
   "cell_type": "code",
   "execution_count": null,
   "metadata": {
    "collapsed": true,
    "focus": false,
    "id": "cf5c6bcd-42fc-4ef9-8dfc-353482b7f3d9"
   },
   "outputs": [],
   "source": [
    "#seperate zeros from the rest of the data\n",
    "zeros_seperate_images = []\n",
    "for i in range(len(y_train)):\n",
    "    if y_train[i] == 9:\n",
    "        zeros_seperate_images.append(X_train[i])\n",
    "        "
   ]
  },
  {
   "cell_type": "code",
   "execution_count": null,
   "metadata": {
    "collapsed": false,
    "focus": false,
    "id": "e51049f9-ca1e-4a39-b0f0-d2ed955d499d"
   },
   "outputs": [],
   "source": [
    "#Add noise to the images\n",
    "\n",
    "noise = 50 #Must be a number between 0 and 255\n",
    "\n",
    "def addNoiseToImage(X, noiseRange):\n",
    "    for i in range(len(X)):\n",
    "        for j in range(len(X[0])):\n",
    "            if X[i][j] == 0:\n",
    "                X[i][j] = np.random.random()*noiseRange\n",
    "            "
   ]
  },
  {
   "cell_type": "code",
   "execution_count": null,
   "metadata": {
    "collapsed": true,
    "focus": false,
    "id": "4125583c-7bdc-4574-ac15-5f264fd493c8"
   },
   "outputs": [],
   "source": [
    "# Function for saving output to file for black and\n",
    "# white viewing and future reference\n",
    "# takes in a np.array and writes it to a png file\n",
    "def saveImage(s,fileName):\n",
    "    f = open(fileName, 'wb')      # binary mode is important\n",
    "    w = png.Writer(len(s[0]), len(s), greyscale=True, bitdepth=8)\n",
    "    w.write(f, s)\n",
    "    f.close()\n"
   ]
  },
  {
   "cell_type": "code",
   "execution_count": null,
   "metadata": {
    "collapsed": true,
    "focus": false,
    "id": "0e32e3ac-f6e1-4899-a263-ae8549af682c"
   },
   "outputs": [],
   "source": [
    "addNoiseToImage(zeros_seperate_images[1], noise)"
   ]
  },
  {
   "cell_type": "code",
   "execution_count": null,
   "metadata": {
    "collapsed": false,
    "focus": false,
    "id": "25a78fce-6be8-4660-858a-0104e1e5c479"
   },
   "outputs": [],
   "source": [
    "print('Number of Zeros: ', len(zeros_seperate_images))\n",
    "plt.imshow(zeros_seperate_images[9])\n",
    "plt.title('zeros1seperate_images example')\n",
    "plt.show()"
   ]
  },
  {
   "cell_type": "code",
   "execution_count": null,
   "metadata": {
    "collapsed": false,
    "focus": false,
    "id": "6600854b-6cd3-454b-9eea-8e16c6c7c245"
   },
   "outputs": [],
   "source": [
    "#Concatonation Function\n",
    "\n",
    "# A function that takes in a \n",
    "# np.array(size:numberofImages x 28 x 28)\n",
    "# mnist pictures in the first parameter and \n",
    "# the desired ouput size of one side of \n",
    "# the square final picture in the second parameter \n",
    "# and creates an imagewith the number placed \n",
    "# randomly in the image without overlapping\n",
    "\n",
    "#the top left number in the image is the number of\n",
    "#objects in the image, just did this for convenience\n",
    "\n",
    "def insertImage(A, B, topLeftCoordinate):\n",
    "    xi = topLeftCoordinate[0]\n",
    "    yi = topLeftCoordinate[1]\n",
    "    for i in range(28):\n",
    "        for j in range(28):\n",
    "            A[xi+i][yi+j] = B[i][j]\n",
    "\n",
    "def updatePlacementMatrix(A, topLeftCoordinate):\n",
    "    xi = topLeftCoordinate[0]\n",
    "    yi = topLeftCoordinate[1]\n",
    "    for i in range(28):\n",
    "        for j in range(28):\n",
    "            A[xi+i][yi+j] = 0\n",
    "    \n",
    "\n",
    "def concatonatedMnistData(images, size):\n",
    "    newImg = [i[:] for i in [[0]*size]*size] #makes new matrix of zeros\n",
    "    \n",
    "    #a is a matrix that uses binary to keep track of inserted\n",
    "    a = [i[:] for i in [[1]*size]*size] \n",
    "    \n",
    "    placedNumbers = 0 \n",
    "    iterations = 0\n",
    "    while (iterations < 100) and (placedNumbers < len(images)):\n",
    "        x = int(size*np.random.random()%(size-28))\n",
    "        y = int(size*np.random.random()%(size-28))\n",
    "        if a[x][y] and a[x][y+28] and a[x+28][y] and a[x+28][y+28]:\n",
    "            updatePlacementMatrix(a, [x,y])\n",
    "            insertImage(newImg, images[placedNumbers],[x,y])\n",
    "            placedNumbers+=1\n",
    "            iterations = 0\n",
    "        iterations+=1\n",
    "    newImg[0][0] = placedNumbers \n",
    "    return np.array(newImg),a\n",
    "    "
   ]
  },
  {
   "cell_type": "code",
   "execution_count": null,
   "metadata": {
    "collapsed": false,
    "focus": false,
    "id": "954fd393-4e23-4f1c-8231-a8789fe9c033"
   },
   "outputs": [],
   "source": [
    "inputX,outputY = concatonatedMnistData(zeros_seperate_images[3:100], 100)\n",
    "number_of_placed = inputX[0][0]\n",
    "print number_of_placed"
   ]
  },
  {
   "cell_type": "code",
   "execution_count": null,
   "metadata": {
    "collapsed": false,
    "focus": false,
    "id": "7bc4c62e-27e2-4c8f-8612-9bb305b0782e"
   },
   "outputs": [],
   "source": [
    "plt.imshow(outputY)\n",
    "plt.title('Resulting Box Data')\n",
    "plt.show()"
   ]
  },
  {
   "cell_type": "code",
   "execution_count": null,
   "metadata": {
    "collapsed": false,
    "focus": false,
    "id": "66a947f9-0bc5-467f-aabb-bfc31353ff13"
   },
   "outputs": [],
   "source": [
    "plt.imshow(inputX)\n",
    "plt.title('Resulting Concatonated Image Data')\n",
    "plt.show()"
   ]
  },
  {
   "cell_type": "code",
   "execution_count": null,
   "metadata": {
    "collapsed": true,
    "focus": false,
    "id": "e55515e8-6cee-4f49-855e-21ac016b39a6"
   },
   "outputs": [],
   "source": [
    "# Lets make some noise!!!!!\n",
    "noise = 50\n",
    "addNoiseToImage(inputX, noise)"
   ]
  },
  {
   "cell_type": "code",
   "execution_count": null,
   "metadata": {
    "collapsed": false,
    "focus": false,
    "id": "b58ef49e-242b-4494-abc4-e43788ae6d03"
   },
   "outputs": [],
   "source": [
    "plt.imshow(inputX)\n",
    "plt.title('Resulting noisy data example')\n",
    "plt.show()"
   ]
  },
  {
   "cell_type": "code",
   "execution_count": null,
   "metadata": {
    "collapsed": true,
    "focus": false,
    "id": "c222ad7b-d327-45fd-afa2-faac2ef3c186"
   },
   "outputs": [],
   "source": [
    "saveImage(inputX, 'example.png')"
   ]
  },
  {
   "cell_type": "code",
   "execution_count": null,
   "metadata": {
    "collapsed": true,
    "focus": false,
    "id": "479f3bb7-283f-409a-ba00-f7df89e86320"
   },
   "outputs": [],
   "source": [
    "def makeConcatonatedImageData(images, newSize, maxImagesInNewImage):\n",
    "    unplacedImages = len(images)-1\n",
    "    i = 0\n",
    "    j = maxImagesInNewImage\n",
    "    Xinput = []\n",
    "    Youtput = []\n",
    "    Ycount = []\n",
    "    while (unplacedImages > 0):\n",
    "        x,y = concatonatedMnistData(images[i:j], newSize)\n",
    "        number_of_placed = x[0][0]\n",
    "        Xinput.append(x)\n",
    "        Youtput.append(y)\n",
    "        Ycount.append(number_of_placed)\n",
    "        i += number_of_placed\n",
    "        j += number_of_placed\n",
    "        unplacedImages -= number_of_placed\n",
    "    return Xinput, Youtput, Ycount\n",
    "        \n",
    "        \n",
    "    "
   ]
  },
  {
   "cell_type": "code",
   "execution_count": null,
   "metadata": {
    "collapsed": false,
    "focus": false,
    "id": "9baa0ae7-db96-45fd-8bd9-6c706efa3873"
   },
   "outputs": [],
   "source": [
    "X, Y1, Y2 = makeConcatonatedImageData(zeros_seperate_images, 100, 4)\n",
    "print len(X)"
   ]
  },
  {
   "cell_type": "code",
   "execution_count": null,
   "metadata": {
    "collapsed": false,
    "focus": false,
    "id": "02d16a52-0e63-4683-b010-43967c25b229"
   },
   "outputs": [],
   "source": [
    "plt.imshow(X[1400])"
   ]
  },
  {
   "cell_type": "code",
   "execution_count": null,
   "metadata": {
    "collapsed": true,
    "focus": false,
    "id": "83f6f258-f638-4c9c-a517-e865419ba10b"
   },
   "outputs": [],
   "source": [
    "X_test = np.array(X[1400:])\n",
    "y_test = np.array(Y1[1400:])\n",
    "Y2test = np.array(Y2[1400:])\n",
    "X_train = np.array(X[:1400])\n",
    "y_train = np.array(Y1[:1400])\n",
    "Y2 = np.array(Y2[:1400])"
   ]
  },
  {
   "cell_type": "code",
   "execution_count": null,
   "metadata": {
    "collapsed": false,
    "focus": false,
    "id": "783f27db-ceb5-49d7-9477-03a36204bc74"
   },
   "outputs": [],
   "source": [
    "num_train = X_train.shape[0]\n",
    "num_test = X_test.shape[0]\n",
    "im_width  = X_train.shape[1]\n",
    "im_height = X_train.shape[2]\n",
    "print('shape before')\n",
    "print(X_train.shape)\n",
    "\n",
    "#resize data for use in convolutional network\n",
    "X_train = X_train.reshape(num_train,1, im_width,im_height)\n",
    "X_test = X_test.reshape(num_test,1, im_width,im_height)\n",
    "\n",
    "print('shape after')\n",
    "print(X_train.shape)"
   ]
  },
  {
   "cell_type": "code",
   "execution_count": null,
   "metadata": {
    "collapsed": false,
    "focus": false,
    "id": "62847baf-7859-41ec-8b2a-14eafe0a2905"
   },
   "outputs": [],
   "source": [
    "# change type to float\n",
    "X_train = X_train.astype('float32')\n",
    "X_test = X_test.astype('float32')\n",
    "\n",
    "# normalize the range\n",
    "print('maximum of X_train:',np.max(X_train[:]))\n",
    "X_train /= 255.0;\n",
    "X_test /= 255.0;\n",
    "print('maximum of X_train:',np.max(X_train[:]))\n",
    "\n",
    "# convert class vectors to binary class matrices (one hot representation)\n",
    "nb_classes = np.unique(y_train).size\n",
    "Y_train = np_utils.to_categorical(y_train, nb_classes)\n",
    "Y_test = np_utils.to_categorical(y_test, nb_classes)"
   ]
  },
  {
   "cell_type": "code",
   "execution_count": null,
   "metadata": {
    "collapsed": false
   },
   "outputs": [],
   "source": [
    "# construct the network\n",
    "model = Sequential()\n",
    "model.add(Convolution2D(64, 10, 10, border_mode='same', input_shape=(1,im_width,im_height)))\n",
    "model.add(Activation('relu'))\n",
    "model.add(Dropout(0.23))\n",
    "model.add(Convolution2D(16, 2, 2, border_mode='same', input_shape=(1,im_width,im_height)))\n",
    "model.add(Activation('relu'))\n",
    "model.add(Dropout(0.23))\n",
    "model.add(MaxPooling2D(pool_size=(2,2), strides=None, border_mode='valid'))\n",
    "model.add(Flatten())\n",
    "model.add(Dense(100))\n",
    "model.add(Activation('relu'))\n",
    "model.add(Dropout(0.23))\n",
    "model.add(Dense(nb_classes))\n",
    "model.add(Activation('softmax'))\n",
    "model.summary()"
   ]
  },
  {
   "cell_type": "code",
   "execution_count": null,
   "metadata": {
    "collapsed": true
   },
   "outputs": [],
   "source": [
    "model.compile(loss='categorical_crossentropy',\n",
    "              optimizer=RMSprop(),\n",
    "              metrics=['accuracy'])"
   ]
  },
  {
   "cell_type": "code",
   "execution_count": null,
   "metadata": {
    "collapsed": false
   },
   "outputs": [],
   "source": [
    "batch_size = 1024\n",
    "start = time.time()\n",
    "history = model.fit(X_train, Y_train,\n",
    "                    batch_size=batch_size, nb_epoch=nb_epoch,\n",
    "                    verbose=1, validation_data=(X_test, Y_test))\n",
    "end = time.time()"
   ]
  },
  {
   "cell_type": "code",
   "execution_count": null,
   "metadata": {
    "collapsed": true
   },
   "outputs": [],
   "source": []
  }
 ],
 "metadata": {
  "kernelspec": {
   "display_name": "Python 2",
   "language": "python",
   "name": "python2"
  },
  "language_info": {
   "codemirror_mode": {
    "name": "ipython",
    "version": 2
   },
   "file_extension": ".py",
   "mimetype": "text/x-python",
   "name": "python",
   "nbconvert_exporter": "python",
   "pygments_lexer": "ipython2",
   "version": "2.7.11"
  }
 },
 "nbformat": 4,
 "nbformat_minor": 0
}
