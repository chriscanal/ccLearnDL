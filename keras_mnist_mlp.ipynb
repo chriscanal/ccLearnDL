{
 "cells": [
  {
   "cell_type": "code",
   "execution_count": null,
   "metadata": {
    "collapsed": false,
    "focus": false,
    "id": "ef27947e-c3f7-42e9-9e86-43cfcc10626b"
   },
   "outputs": [],
   "source": [
    "import numpy as np\n",
    "np.random.seed(1337)  # for reproducibility\n",
    "\n",
    "from keras.datasets import mnist\n",
    "from keras.models import Sequential\n",
    "from keras.layers.core import Dense, Dropout, Activation, Flatten\n",
    "from keras.layers.convolutional import Convolution2D, MaxPooling2D\n",
    "from keras.optimizers import SGD, Adam, RMSprop\n",
    "from keras.utils import np_utils\n",
    "from keras.utils.visualize_util import plot\n",
    "from keras.models import model_from_json\n",
    "\n",
    "\n",
    "\n",
    "%matplotlib inline\n",
    "import matplotlib.pyplot as plt\n",
    "import matplotlib.image as mpimg\n",
    "import sys\n",
    "import time\n",
    "\n",
    "nb_epoch = 5"
   ]
  },
  {
   "cell_type": "code",
   "execution_count": null,
   "metadata": {
    "collapsed": false,
    "focus": false,
    "id": "6f93fd70-7de0-4471-ba19-5f95b83b544c"
   },
   "outputs": [],
   "source": [
    "# the data, shuffled and split between train and test sets\n",
    "(X_train, y_train), (X_test, y_test) = mnist.load_data()\n",
    "num_train = X_train.shape[0]\n",
    "num_test = X_test.shapeOn[0]\n",
    "im_width  = X_train.shape[1]\n",
    "im_height = X_train.shape[2]\n",
    "print('shape before')\n",
    "print(X_train.shape)\n",
    "X_train = X_train.reshape(num_train,1, im_width,im_height)\n",
    "X_test = X_test.reshape(num_test,1, im_width,im_height)\n",
    "\n",
    "print('shape after')\n",
    "print(X_train.shape)"
   ]
  },
  {
   "cell_type": "code",
   "execution_count": null,
   "metadata": {
    "collapsed": false,
    "focus": false,
    "id": "80116d37-44a7-4e4c-ae6d-6c18e23b5bfb"
   },
   "outputs": [],
   "source": [
    "#Remove numbers 5 through 9\n",
    "newX = []\n",
    "newy = []\n",
    "newXtest = []\n",
    "newYtest = []\n",
    "for i in range(len(y_train)):\n",
    "    if y_train[i] < 5:\n",
    "        newX.append(X_train[i])\n",
    "        newy.append(y_train[i])\n",
    "for i in range(len(y_test)):\n",
    "    if y_test[i] < 5: \n",
    "        newXtest.append(X_test[i])\n",
    "        newYtest.append(y_test[i])\n",
    "X_train = np.array(newX)\n",
    "y_train = np.array(newy)\n",
    "X_test = np.array(newXtest)\n",
    "y_test = np.array(newYtest)\n",
    "        "
   ]
  },
  {
   "cell_type": "code",
   "execution_count": null,
   "metadata": {
    "collapsed": false,
    "focus": false,
    "id": "59f9b8aa-72b0-4f8e-851c-85ce7204d49f"
   },
   "outputs": [],
   "source": [
    "# change type to float\n",
    "X_train = X_train.astype('float32')\n",
    "X_test = X_test.astype('float32')\n",
    "\n",
    "# normalize the range\n",
    "print('maximum of X_train:',np.max(X_train[:]))\n",
    "X_train /= 255.0;\n",
    "X_test /= 255.0;\n",
    "print('maximum of X_train:',np.max(X_train[:]))\n",
    "\n",
    "# convert class vectors to binary class matrices (one hot representation)\n",
    "nb_classes = np.unique(y_train).size\n",
    "Y_train = np_utils.to_categorical(y_train, nb_classes)\n",
    "Y_test = np_utils.to_categorical(y_test, nb_classes)"
   ]
  },
  {
   "cell_type": "code",
   "execution_count": null,
   "metadata": {
    "collapsed": false,
    "focus": false,
    "id": "e4073d8a-6f60-4317-8360-57eb8dea8260"
   },
   "outputs": [],
   "source": [
    "\n",
    "# construct the network\n",
    "model = Sequential()\n",
    "model.add(Convolution2D(64, 10, 10, border_mode='same', input_shape=(1,im_width,im_height)))\n",
    "model.add(Activation('relu'))\n",
    "model.add(Dropout(0.23))\n",
    "model.add(Convolution2D(16, 2, 2, border_mode='same', input_shape=(1,im_width,im_height)))\n",
    "model.add(Activation('relu'))\n",
    "model.add(Dropout(0.23))\n",
    "model.add(MaxPooling2D(pool_size=(2,2), strides=None, border_mode='valid'))\n",
    "model.add(Flatten())\n",
    "model.add(Dense(100))\n",
    "model.add(Activation('relu'))\n",
    "model.add(Dropout(0.23))\n",
    "model.add(Dense(nb_classes))\n",
    "model.add(Activation('softmax'))\n",
    "model.summary()"
   ]
  },
  {
   "cell_type": "code",
   "execution_count": null,
   "metadata": {
    "collapsed": true,
    "focus": false,
    "id": "78311592-ccc6-4f71-8f2d-403775cabab5"
   },
   "outputs": [],
   "source": [
    "model.compile(loss='categorical_crossentropy',\n",
    "              optimizer=RMSprop(),\n",
    "              metrics=['accuracy'])"
   ]
  },
  {
   "cell_type": "code",
   "execution_count": null,
   "metadata": {
    "collapsed": false,
    "focus": false,
    "id": "eba899d5-c0c3-43e8-927a-548375764d8f"
   },
   "outputs": [],
   "source": [
    "batch_size = 128\n",
    "start = time.time()\n",
    "history = model.fit(X_train, Y_train,\n",
    "                    batch_size=batch_size, nb_epoch=nb_epoch,\n",
    "                    verbose=1, validation_data=(X_test, Y_test))\n",
    "end = time.time()"
   ]
  },
  {
   "cell_type": "code",
   "execution_count": null,
   "metadata": {
    "collapsed": false,
    "focus": false,
    "id": "04861560-d35d-458d-a5ca-b6aba07e4a77"
   },
   "outputs": [],
   "source": [
    "score = model.evaluate(X_test, Y_test, verbose=0)\n",
    "\n",
    "print ('Test score:   ', score[0])\n",
    "print( 'Test accuracy:', score[1])\n",
    "print( 'Time elapsed: ',(end - start), \"seconds\")"
   ]
  },
  {
   "cell_type": "code",
   "execution_count": null,
   "metadata": {
    "collapsed": false,
    "focus": false,
    "id": "b4e0d49c-369b-4468-9536-5973cffb0e67"
   },
   "outputs": [],
   "source": [
    "print (model)"
   ]
  },
  {
   "cell_type": "code",
   "execution_count": null,
   "metadata": {
    "collapsed": false,
    "focus": false,
    "id": "f3e7ae29-142a-4c7a-8917-bc4fa724c1f4"
   },
   "outputs": [],
   "source": [
    "plot(model, to_file='model.png')"
   ]
  },
  {
   "cell_type": "code",
   "execution_count": null,
   "metadata": {
    "collapsed": false,
    "focus": false,
    "id": "4a9392e2-7f46-461f-9e67-c916a56b227c"
   },
   "outputs": [],
   "source": [
    "img = mpimg.imread('model.png')\n",
    "plt.imshow(img)"
   ]
  },
  {
   "cell_type": "code",
   "execution_count": null,
   "metadata": {
    "collapsed": false,
    "focus": false,
    "id": "eb962594-3019-4884-ac7f-15639ed5fcdc"
   },
   "outputs": [],
   "source": [
    "#Save the weights of the model\n",
    "model.save_weights('modelWeights.h5',overwrite=True)\n",
    "\n",
    "#Save the architecture of the model\n",
    "json_string_modelArchitecture = model.to_json()\n",
    "open('my_model_architecture.json', 'w').write(json_string_modelArchitecture)\n"
   ]
  },
  {
   "cell_type": "code",
   "execution_count": null,
   "metadata": {
    "collapsed": false,
    "focus": false,
    "id": "eb1d59aa-313d-4cfd-9f6e-2346b333dc95"
   },
   "outputs": [],
   "source": [
    "if 'model' in dir():\n",
    "    print (\"deleted model\")\n",
    "    del model\n",
    "else:\n",
    "    print (\"deleted already\")"
   ]
  },
  {
   "cell_type": "code",
   "execution_count": null,
   "metadata": {
    "collapsed": false,
    "focus": false,
    "id": "aee733af-0097-4a39-a038-bd16a659aabb"
   },
   "outputs": [],
   "source": [
    "#Load the old architecture\n",
    "model = model_from_json(open('my_model_architecture.json').read())\n",
    "model.load_weights('modelWeights.h5')"
   ]
  },
  {
   "cell_type": "code",
   "execution_count": null,
   "metadata": {
    "collapsed": false,
    "focus": false,
    "id": "353b9e59-ddc0-4580-a21a-d30b9b1eec4c"
   },
   "outputs": [],
   "source": [
    "#Show the model to make sure the load in worked\n",
    "model.summary()"
   ]
  },
  {
   "cell_type": "code",
   "execution_count": null,
   "metadata": {
    "collapsed": false,
    "focus": false,
    "id": "83db67f1-95fd-42d6-8d71-96cd0f76931d"
   },
   "outputs": [],
   "source": [
    "#pop the classification layers\n",
    "model.layers.pop() #remove softmax activation\n",
    "model.layers.pop() #remove classification output layer\n",
    "model.layers.pop() #remove dropout\n",
    "model.layers.pop() #remove Relu Activation\n",
    "model.layers.pop() #remove fully connected layer\n",
    "model.summary()"
   ]
  },
  {
   "cell_type": "code",
   "execution_count": null,
   "metadata": {
    "collapsed": false,
    "focus": false,
    "id": "a629be42-3205-4cbe-b60a-3149000077db"
   },
   "outputs": [],
   "source": [
    "for i in range(len(model.layers)):\n",
    "    model.layers[i].train=False\n",
    "    print (\"Freezing \", model.layers[i].name)"
   ]
  },
  {
   "cell_type": "code",
   "execution_count": null,
   "metadata": {
    "collapsed": false,
    "focus": false,
    "id": "ee29312f-0c3c-4a7e-b36a-46f7e9bc0d69"
   },
   "outputs": [],
   "source": [
    "# the data, shuffled and split between train and test sets\n",
    "(X_train, y_train), (X_test, y_test) = mnist.load_data()\n",
    "num_train = X_train.shape[0]\n",
    "num_test = X_test.shape[0]\n",
    "im_width  = X_train.shape[1]\n",
    "im_height = X_train.shape[2]\n",
    "print('shape before')\n",
    "print(X_train.shape)\n",
    "X_train = X_train.reshape(num_train,1, im_width,im_height)\n",
    "X_test = X_test.reshape(num_test,1, im_width,im_height)\n",
    "\n",
    "print('shape after')\n",
    "print(X_train.shape)"
   ]
  },
  {
   "cell_type": "code",
   "execution_count": null,
   "metadata": {
    "collapsed": false,
    "focus": false,
    "id": "e26df7ad-5fdf-456f-8220-202222fe1c24"
   },
   "outputs": [],
   "source": [
    "# change type to float\n",
    "X_train = X_train.astype('float32')\n",
    "X_test = X_test.astype('float32')\n",
    "\n",
    "# normalize the range\n",
    "print('maximum of X_train:',np.max(X_train[:]))\n",
    "X_train /= 255.0;\n",
    "X_test /= 255.0;\n",
    "print('maximum of X_train:',np.max(X_train[:]))\n",
    "\n",
    "# convert class vectors to binary class matrices (one hot representation)\n",
    "nb_classes = np.unique(y_train).size\n",
    "Y_train = np_utils.to_categorical(y_train, nb_classes)\n",
    "Y_test = np_utils.to_categorical(y_test, nb_classes)"
   ]
  },
  {
   "cell_type": "code",
   "execution_count": null,
   "metadata": {
    "collapsed": true,
    "focus": false,
    "id": "1ce7ec21-108e-4c0b-b5bb-8d397db67bfd"
   },
   "outputs": [],
   "source": [
    "model.add(Dense(100))\n",
    "model.add(Activation('relu'))\n",
    "model.add(Dropout(0.23))\n",
    "model.add(Dense(nb_classes))\n",
    "model.add(Activation('softmax'))\n",
    "model.summary()"
   ]
  },
  {
   "cell_type": "code",
   "execution_count": null,
   "metadata": {
    "collapsed": true,
    "focus": false,
    "id": "141ab950-fc87-4ce3-8fc4-36b3c7a71724"
   },
   "outputs": [],
   "source": [
    "#Compile the new model\n",
    "model.compile(loss='categorical_crossentropy',\n",
    "              optimizer=RMSprop(),\n",
    "              metrics=['accuracy'])"
   ]
  },
  {
   "cell_type": "code",
   "execution_count": null,
   "metadata": {
    "collapsed": false,
    "focus": false,
    "id": "968a47ca-9e41-4e1c-b92e-2d31f78016c8"
   },
   "outputs": [],
   "source": [
    "batch_size = 128\n",
    "\n",
    "start = time.time()\n",
    "history = model.fit(X_train, Y_train,\n",
    "                    batch_size=batch_size, nb_epoch=nb_epoch,\n",
    "                    verbose=1, validation_data=(X_test, Y_test))\n",
    "end = time.time()"
   ]
  },
  {
   "cell_type": "code",
   "execution_count": null,
   "metadata": {
    "collapsed": true,
    "focus": false,
    "id": "e046f046-5beb-4e6f-ad05-7ec571265eaf"
   },
   "outputs": [],
   "source": [
    "score = model.evaluate(X_test, Y_test, verbose=0)\n",
    "\n",
    "print ('Test score:   ', score[0])\n",
    "print( 'Test accuracy:', score[1])\n",
    "print( 'Time elapsed: ',(end - start), \"seconds\")"
   ]
  }
 ],
 "metadata": {
  "kernelspec": {
   "display_name": "Python 2",
   "language": "python",
   "name": "python2"
  },
  "language_info": {
   "codemirror_mode": {
    "name": "ipython",
    "version": 2
   },
   "file_extension": ".py",
   "mimetype": "text/x-python",
   "name": "python",
   "nbconvert_exporter": "python",
   "pygments_lexer": "ipython2",
   "version": "2.7.11"
  }
 },
 "nbformat": 4,
 "nbformat_minor": 0
}
