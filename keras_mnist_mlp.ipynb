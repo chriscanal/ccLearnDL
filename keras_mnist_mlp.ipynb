{
    "cells": [
        {
            "cell_type": "code",
            "execution_count": null,
            "metadata": {
                "collapsed": false,
                "id": "d02ce50b-05a3-4b09-892c-798278d0b9a1",
                "focus": true
            },
            "outputs": [],
            "source": "import numpy as np\nnp.random.seed(1337)  # for reproducibility\n\nfrom keras.datasets import mnist\nfrom keras.models import Sequential\nfrom keras.layers.core import Dense, Dropout, Activation, Flatten\nfrom keras.layers.convolutional import Convolution2D, MaxPooling2D\nfrom keras.optimizers import SGD, Adam, RMSprop\nfrom keras.utils import np_utils\nfrom keras.utils.visualize_util import plot\nfrom keras.models import model_from_json\n\n\n\n%matplotlib inline\nimport matplotlib.pyplot as plt\nimport matplotlib.image as mpimg\nimport sys\nimport time\n\nnb_epoch = 5"
        },
        {
            "cell_type": "code",
            "execution_count": null,
            "metadata": {
                "collapsed": false,
                "id": "c887d875-a50d-40d1-91eb-abcdc06c737b",
                "focus": false
            },
            "outputs": [],
            "source": [
                "# the data, shuffled and split between train and test sets\n",
                "(X_train, y_train), (X_test, y_test) = mnist.load_data()\n",
                "num_train = X_train.shape[0]\n",
                "num_test = X_test.shapeOn[0]\n",
                "im_width  = X_train.shape[1]\n",
                "im_height = X_train.shape[2]\n",
                "print('shape before')\n",
                "print(X_train.shape)\n",
                "X_train = X_train.reshape(num_train,1, im_width,im_height)\n",
                "X_test = X_test.reshape(num_test,1, im_width,im_height)\n",
                "\n",
                "print('shape after')\n",
                "print(X_train.shape)"
            ]
        },
        {
            "cell_type": "code",
            "execution_count": null,
            "metadata": {
                "collapsed": false,
                "id": "1c674cee-17fd-408c-9a42-1ce3947387ce",
                "focus": false
            },
            "outputs": [],
            "source": [
                "#Remove numbers 5 through 9\n",
                "newX = []\n",
                "newy = []\n",
                "newXtest = []\n",
                "newYtest = []\n",
                "for i in range(len(y_train)):\n",
                "    if y_train[i] < 5:\n",
                "        newX.append(X_train[i])\n",
                "        newy.append(y_train[i])\n",
                "for i in range(len(y_test)):\n",
                "    if y_test[i] < 5: \n",
                "        newXtest.append(X_test[i])\n",
                "        newYtest.append(y_test[i])\n",
                "X_train = np.array(newX)\n",
                "y_train = np.array(newy)\n",
                "X_test = np.array(newXtest)\n",
                "y_test = np.array(newYtest)\n",
                "        "
            ]
        },
        {
            "cell_type": "code",
            "execution_count": null,
            "metadata": {
                "collapsed": false,
                "id": "5f344ce4-a071-4dff-97ed-7437ccf9bb62",
                "focus": false
            },
            "outputs": [],
            "source": [
                "# change type to float\n",
                "X_train = X_train.astype('float32')\n",
                "X_test = X_test.astype('float32')\n",
                "\n",
                "# normalize the range\n",
                "print('maximum of X_train:',np.max(X_train[:]))\n",
                "X_train /= 255.0;\n",
                "X_test /= 255.0;\n",
                "print('maximum of X_train:',np.max(X_train[:]))\n",
                "\n",
                "# convert class vectors to binary class matrices (one hot representation)\n",
                "nb_classes = np.unique(y_train).size\n",
                "Y_train = np_utils.to_categorical(y_train, nb_classes)\n",
                "Y_test = np_utils.to_categorical(y_test, nb_classes)"
            ]
        },
        {
            "cell_type": "code",
            "execution_count": null,
            "metadata": {
                "collapsed": false,
                "id": "54637732-20fc-4306-b9a2-a38448b12640",
                "focus": false
            },
            "outputs": [],
            "source": [
                "\n",
                "# construct the network\n",
                "model = Sequential()\n",
                "model.add(Convolution2D(64, 10, 10, border_mode='same', input_shape=(1,im_width,im_height)))\n",
                "model.add(Activation('relu'))\n",
                "model.add(Dropout(0.23))\n",
                "model.add(Convolution2D(16, 2, 2, border_mode='same', input_shape=(1,im_width,im_height)))\n",
                "model.add(Activation('relu'))\n",
                "model.add(Dropout(0.23))\n",
                "model.add(MaxPooling2D(pool_size=(2,2), strides=None, border_mode='valid'))\n",
                "model.add(Flatten())\n",
                "model.add(Dense(100))\n",
                "model.add(Activation('relu'))\n",
                "model.add(Dropout(0.23))\n",
                "model.add(Dense(nb_classes))\n",
                "model.add(Activation('softmax'))\n",
                "model.summary()"
            ]
        },
        {
            "cell_type": "code",
            "execution_count": null,
            "metadata": {
                "collapsed": true,
                "id": "ab12c848-5c56-436f-8a43-5cb2bbadbd76",
                "focus": false
            },
            "outputs": [],
            "source": [
                "model.compile(loss='categorical_crossentropy',\n",
                "              optimizer=RMSprop(),\n",
                "              metrics=['accuracy'])"
            ]
        },
        {
            "cell_type": "code",
            "execution_count": null,
            "metadata": {
                "collapsed": false,
                "id": "3a5f09d5-1ca9-4470-9fca-f97bb1c93f13",
                "focus": false
            },
            "outputs": [],
            "source": [
                "batch_size = 128\n",
                "start = time.time()\n",
                "history = model.fit(X_train, Y_train,\n",
                "                    batch_size=batch_size, nb_epoch=nb_epoch,\n",
                "                    verbose=1, validation_data=(X_test, Y_test))\n",
                "end = time.time()"
            ]
        },
        {
            "cell_type": "code",
            "execution_count": null,
            "metadata": {
                "collapsed": false,
                "id": "794506e1-af1e-4595-a6c4-6f30e23e6e26",
                "focus": false
            },
            "outputs": [],
            "source": [
                "score = model.evaluate(X_test, Y_test, verbose=0)\n",
                "\n",
                "print ('Test score:   ', score[0])\n",
                "print( 'Test accuracy:', score[1])\n",
                "print( 'Time elapsed: ',(end - start), \"seconds\")"
            ]
        },
        {
            "cell_type": "code",
            "execution_count": null,
            "metadata": {
                "collapsed": false,
                "id": "5ad5a446-e226-4186-8321-d366664ce0a2",
                "focus": false
            },
            "outputs": [],
            "source": [
                "print (model)"
            ]
        },
        {
            "cell_type": "code",
            "execution_count": null,
            "metadata": {
                "collapsed": false,
                "id": "6a9ffb11-befb-4e92-81be-b4651c224b5a",
                "focus": false
            },
            "outputs": [],
            "source": [
                "plot(model, to_file='model.png')"
            ]
        },
        {
            "cell_type": "code",
            "execution_count": null,
            "metadata": {
                "collapsed": false,
                "id": "efc76485-effb-498d-afa5-cc4f840c19d2",
                "focus": false
            },
            "outputs": [],
            "source": [
                "img = mpimg.imread('model.png')\n",
                "plt.imshow(img)"
            ]
        },
        {
            "cell_type": "code",
            "execution_count": null,
            "metadata": {
                "collapsed": false,
                "id": "4236f42f-3b06-4fee-897c-30dacc4e3833",
                "focus": false
            },
            "outputs": [],
            "source": [
                "#Save the weights of the model\n",
                "model.save_weights('modelWeights.h5',overwrite=True)\n",
                "\n",
                "#Save the architecture of the model\n",
                "json_string_modelArchitecture = model.to_json()\n",
                "open('my_model_architecture.json', 'w').write(json_string_modelArchitecture)\n"
            ]
        },
        {
            "cell_type": "code",
            "execution_count": null,
            "metadata": {
                "collapsed": false,
                "id": "c8c96f5f-9f60-462f-880c-30c89e396857",
                "focus": false
            },
            "outputs": [],
            "source": [
                "if 'model' in dir():\n",
                "    print (\"deleted model\")\n",
                "    del model\n",
                "else:\n",
                "    print (\"deleted already\")"
            ]
        },
        {
            "cell_type": "code",
            "execution_count": null,
            "metadata": {
                "collapsed": false,
                "id": "b1edf371-ae19-480e-883c-234e1eaf063c",
                "focus": false
            },
            "outputs": [],
            "source": [
                "#Load the old architecture\n",
                "model = model_from_json(open('my_model_architecture.json').read())\n",
                "model.load_weights('modelWeights.h5')"
            ]
        },
        {
            "cell_type": "code",
            "execution_count": null,
            "metadata": {
                "collapsed": false,
                "id": "f5b8dc98-a539-472f-9ffc-1d60a9818cfa",
                "focus": false
            },
            "outputs": [],
            "source": [
                "#Show the model to make sure the load in worked\n",
                "model.summary()"
            ]
        },
        {
            "cell_type": "code",
            "execution_count": null,
            "metadata": {
                "collapsed": false,
                "id": "96e8d9b1-ed49-48b5-afb4-357799d69453",
                "focus": false
            },
            "outputs": [],
            "source": [
                "#pop the classification layers\n",
                "model.layers.pop() #remove softmax activation\n",
                "model.layers.pop() #remove classification output layer\n",
                "model.layers.pop() #remove dropout\n",
                "model.layers.pop() #remove Relu Activation\n",
                "model.layers.pop() #remove fully connected layer\n",
                "model.summary()"
            ]
        },
        {
            "cell_type": "code",
            "execution_count": null,
            "metadata": {
                "collapsed": false,
                "id": "83ba2d9a-c1bc-4938-accc-53f9ecb30574",
                "focus": false
            },
            "outputs": [],
            "source": [
                "for i in range(len(model.layers)):\n",
                "    model.layers[i].train=False\n",
                "    print (\"Freezing \", model.layers[i].name)"
            ]
        },
        {
            "cell_type": "code",
            "execution_count": null,
            "metadata": {
                "collapsed": false,
                "id": "31f3a824-e40e-4141-90a9-1f702104b4e2",
                "focus": false
            },
            "outputs": [],
            "source": [
                "# the data, shuffled and split between train and test sets\n",
                "(X_train, y_train), (X_test, y_test) = mnist.load_data()\n",
                "num_train = X_train.shape[0]\n",
                "num_test = X_test.shape[0]\n",
                "im_width  = X_train.shape[1]\n",
                "im_height = X_train.shape[2]\n",
                "print('shape before')\n",
                "print(X_train.shape)\n",
                "X_train = X_train.reshape(num_train,1, im_width,im_height)\n",
                "X_test = X_test.reshape(num_test,1, im_width,im_height)\n",
                "\n",
                "print('shape after')\n",
                "print(X_train.shape)"
            ]
        },
        {
            "cell_type": "code",
            "execution_count": null,
            "metadata": {
                "collapsed": false,
                "id": "69c0046a-b1c1-4bc9-a4b1-e54006c31e00",
                "focus": false
            },
            "outputs": [],
            "source": [
                "# change type to float\n",
                "X_train = X_train.astype('float32')\n",
                "X_test = X_test.astype('float32')\n",
                "\n",
                "# normalize the range\n",
                "print('maximum of X_train:',np.max(X_train[:]))\n",
                "X_train /= 255.0;\n",
                "X_test /= 255.0;\n",
                "print('maximum of X_train:',np.max(X_train[:]))\n",
                "\n",
                "# convert class vectors to binary class matrices (one hot representation)\n",
                "nb_classes = np.unique(y_train).size\n",
                "Y_train = np_utils.to_categorical(y_train, nb_classes)\n",
                "Y_test = np_utils.to_categorical(y_test, nb_classes)"
            ]
        },
        {
            "cell_type": "code",
            "execution_count": null,
            "metadata": {
                "collapsed": true,
                "id": "5d94524f-beae-44aa-bf12-e33ce9004d8f",
                "focus": false
            },
            "outputs": [],
            "source": [
                "model.add(Dense(100))\n",
                "model.add(Activation('relu'))\n",
                "model.add(Dropout(0.23))\n",
                "model.add(Dense(nb_classes))\n",
                "model.add(Activation('softmax'))\n",
                "model.summary()"
            ]
        },
        {
            "cell_type": "code",
            "execution_count": null,
            "metadata": {
                "collapsed": true,
                "id": "4bf388e3-c85f-4cb4-981b-df093c1ee817",
                "focus": false
            },
            "outputs": [],
            "source": [
                "#Compile the new model\n",
                "model.compile(loss='categorical_crossentropy',\n",
                "              optimizer=RMSprop(),\n",
                "              metrics=['accuracy'])"
            ]
        },
        {
            "cell_type": "code",
            "execution_count": null,
            "metadata": {
                "collapsed": false,
                "id": "2ad42ffc-11e5-4053-a616-1ac5d70827d4",
                "focus": false
            },
            "outputs": [],
            "source": [
                "batch_size = 128\n",
                "\n",
                "start = time.time()\n",
                "history = model.fit(X_train, Y_train,\n",
                "                    batch_size=batch_size, nb_epoch=nb_epoch,\n",
                "                    verbose=1, validation_data=(X_test, Y_test))\n",
                "end = time.time()"
            ]
        },
        {
            "cell_type": "code",
            "execution_count": null,
            "metadata": {
                "collapsed": true,
                "id": "2f6a0aa6-ec61-4c58-b4e9-95849143fd63",
                "focus": false
            },
            "outputs": [],
            "source": [
                "score = model.evaluate(X_test, Y_test, verbose=0)\n",
                "\n",
                "print ('Test score:   ', score[0])\n",
                "print( 'Test accuracy:', score[1])\n",
                "print( 'Time elapsed: ',(end - start), \"seconds\")"
            ]
        }
    ],
    "metadata": {
        "kernelspec": {
            "display_name": "Python 2",
            "language": "python",
            "name": "python2"
        },
        "language_info": {
            "codemirror_mode": {
                "name": "ipython",
                "version": 2
            },
            "file_extension": ".py",
            "mimetype": "text/x-python",
            "name": "python",
            "nbconvert_exporter": "python",
            "pygments_lexer": "ipython2",
            "version": "2.7.11"
        }
    },
    "nbformat": 4,
    "nbformat_minor": 0
}